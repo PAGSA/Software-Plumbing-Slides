{
 "cells": [
  {
   "cell_type": "markdown",
   "metadata": {},
   "source": [
    "<center><h1>Object Oriented Design and Programming</h1></center>\n",
    "<br>\n",
    "<center><h2>Belaid Moa, Ph.D.</h2></center>\n",
    "<center><h2>Compute Canada/WestGrid/University Systems</h2></center>\n",
    "<center><img src=\"./images/UML_class_diagram_hotel.png\" style=\"width:600px;height:450px;\"/></center>"
   ]
  },
  {
   "cell_type": "markdown",
   "metadata": {},
   "source": [
    "---"
   ]
  },
  {
   "cell_type": "markdown",
   "metadata": {},
   "source": [
    "# Agenda\n",
    "1. Why OO design and programming?\n",
    "1. OO Concepts\n",
    "1. OO Principles\n",
    "1. OO Design Patterns\n",
    "\n",
    "WARNING: Every hands-on oriented; So please write the code as we go!"
   ]
  },
  {
   "cell_type": "markdown",
   "metadata": {},
   "source": [
    "# Why OO Design\n",
    "## Why assembly languages in one sentence\n",
    "### *make it easy to implement a solution on a machine, which only understands 0s and 1s.*"
   ]
  },
  {
   "cell_type": "markdown",
   "metadata": {},
   "source": [
    "<center><img src=\"./images/assembly.png\" style=\"width:800px;height:auto\"/></center>\n",
    "<center><img src=\"./images/down_arrow.png\" style=\"width:100px;height:auto\"/></center>\n",
    "<center><img src=\"./images/gates.png\" style=\"width:500px;height:auto\"/></center>"
   ]
  },
  {
   "cell_type": "markdown",
   "metadata": {},
   "source": [
    "## Why programming languages in one sentence\n",
    "### *make it easy to implement a solution in assembly language*"
   ]
  },
  {
   "cell_type": "markdown",
   "metadata": {},
   "source": [
    "<center><img src=\"./images/pascal.png\" style=\"width:800px;height:auto\"/></center>\n",
    "<center><img src=\"./images/down_arrow.png\" style=\"width:100px;height:auto\"/></center>\n",
    "<center><img src=\"./images/assembly.png\" style=\"width:400px;height:auto\"/></center>\n",
    "<center><img src=\"./images/down_arrow.png\" style=\"width:20px;height:auto\"/></center>\n",
    "<center><img src=\"./images/gates.png\" style=\"width:100px;height:auto\"/></center>"
   ]
  },
  {
   "cell_type": "markdown",
   "metadata": {},
   "source": [
    "## BUT we forgot to look up ..."
   ]
  },
  {
   "cell_type": "markdown",
   "metadata": {},
   "source": [
    "<center><img src=\"./images/problem_specs.jpg\" style=\"width:600px;height:auto\"/></center>\n",
    "<center><img src=\"./images/up_arrow.svg\" style=\"width:20px;height:100px;transform:rotate(90deg);\"/></center>\n",
    "<center><img src=\"./images/lookup.jpg\" style=\"width:600px;height:auto\"/></center>\n",
    "\n",
    "<center><img src=\"./images/down_arrow.png\" style=\"width:20px;height:100px\"/></center>\n",
    "<center><img src=\"./images/pascal.png\" style=\"width:100px;height:auto\"/></center>\n",
    "<center><img src=\"./images/down_arrow.png\" style=\"width:10px;height:auto\"/></center>\n",
    "<center><img src=\"./images/assembly.png\" style=\"width:50px;height:auto\"/></center>\n",
    "<center><img src=\"./images/down_arrow.png\" style=\"width:5px;height:auto\"/></center>\n",
    "<center><img src=\"./images/gates.png\" style=\"width:10px;height:auto\"/></center>"
   ]
  },
  {
   "cell_type": "markdown",
   "metadata": {},
   "source": [
    "## Here is how bad the situation was ...\n",
    "<center><img src=\"./images/softEng.jpeg\"/></center>"
   ]
  },
  {
   "cell_type": "markdown",
   "metadata": {},
   "source": [
    "## Why OO programming languages in one sentence\n",
    "### *Close the large gap between the problem and the humans, while using the machines*"
   ]
  },
  {
   "cell_type": "markdown",
   "metadata": {},
   "source": [
    "---"
   ]
  },
  {
   "cell_type": "markdown",
   "metadata": {},
   "source": [
    "# OO Concepts"
   ]
  },
  {
   "cell_type": "markdown",
   "metadata": {},
   "source": [
    "# - Encapsulation\n",
    "### *Group the data and the code that manipulates in one single unit, called object. By doing so, we can hide the information that the user does not need to know or change.*\n",
    "#### A car, a coffee machine, etc. from our perspective are single objects and are self-contained."
   ]
  },
  {
   "cell_type": "markdown",
   "metadata": {},
   "source": [
    "In Python and many other OO languages, we rely on the so called **class** to ensure that the variables/data and the code are bundled together.\n",
    "Each class has two main elements: \n",
    "1. **Attributes**: these are the encapsulated variables; sometimes called state variables, properties, etc. \n",
    "2. **Methods**: these are the encapsulated code that manipulates the attributes; sometimes called member functions, object function, etc."
   ]
  },
  {
   "cell_type": "markdown",
   "metadata": {},
   "source": [
    "<center><img src=\"./images/classGen.png\" style=\"width:400px;height:auto\"/></center>"
   ]
  },
  {
   "cell_type": "markdown",
   "metadata": {},
   "source": [
    "The **objects**, also called **instances**, are created from the classes. The classes can therefore be seeing as a blueprint/template from which object are manifactured."
   ]
  },
  {
   "cell_type": "markdown",
   "metadata": {},
   "source": [
    "# - Abstraction\n",
    "### *Hide the complexity of the system by abstracting it from the user and let the user only see the relevant information. By doing so, we can build complex systems by reusing objects and getting them to interact via their minimal abstract \"interfaces\".*\n",
    "#### Do you I need to know how the engine works to use a car? How about a coffee machine?"
   ]
  },
  {
   "cell_type": "markdown",
   "metadata": {},
   "source": [
    "## Example from your customer, your supervisor\n",
    "**I would like to simulate how a galaxy evolve. The galaxy is composed of usually of few black holes, dark matter, stars, and gases.\n",
    "Each of these behaves according to the law of physics as we know them today.**"
   ]
  },
  {
   "cell_type": "markdown",
   "metadata": {},
   "source": [
    "*How do we go about designing a solution in the traditional structured design?*"
   ]
  },
  {
   "cell_type": "markdown",
   "metadata": {},
   "source": [
    "Hmm ... Creating arrays for the position, arrays for the velocities, forget about that ..."
   ]
  },
  {
   "cell_type": "markdown",
   "metadata": {},
   "source": [
    "*How do we go about designing a solution in OO design?*"
   ]
  },
  {
   "cell_type": "markdown",
   "metadata": {},
   "source": [
    "Everything should be expressed in terms of objects that interact with each other. Each object should have its own state, and what it can do and what can be done on it. "
   ]
  },
  {
   "cell_type": "markdown",
   "metadata": {},
   "source": [
    "The idea of OO design is to abstract as much as possible and follow the intuitive rule: **Nouns becomes objects or attributes, and Verbs becomes methods.**"
   ]
  },
  {
   "cell_type": "markdown",
   "metadata": {},
   "source": [
    "Black holes, dark matter, starts and gases, could be abstract to a *particle*."
   ]
  },
  {
   "cell_type": "code",
   "execution_count": 49,
   "metadata": {},
   "outputs": [],
   "source": [
    "class Particle:\n",
    "    pass"
   ]
  },
  {
   "cell_type": "code",
   "execution_count": 50,
   "metadata": {},
   "outputs": [
    {
     "name": "stdout",
     "output_type": "stream",
     "text": [
      "<class '__main__.Particle'>\n"
     ]
    }
   ],
   "source": [
    "aGasParticle=Particle()\n",
    "print(type(aGasParticle))"
   ]
  },
  {
   "cell_type": "code",
   "execution_count": 51,
   "metadata": {},
   "outputs": [
    {
     "name": "stdout",
     "output_type": "stream",
     "text": [
      "Help on Particle in module __main__ object:\n",
      "\n",
      "class Particle(builtins.object)\n",
      " |  Data descriptors defined here:\n",
      " |  \n",
      " |  __dict__\n",
      " |      dictionary for instance variables (if defined)\n",
      " |  \n",
      " |  __weakref__\n",
      " |      list of weak references to the object (if defined)\n",
      "\n",
      "None\n"
     ]
    }
   ],
   "source": [
    "print(help(aGasParticle))"
   ]
  },
  {
   "cell_type": "code",
   "execution_count": 52,
   "metadata": {},
   "outputs": [],
   "source": [
    "class Galaxy:\n",
    "    pass"
   ]
  },
  {
   "cell_type": "code",
   "execution_count": 53,
   "metadata": {},
   "outputs": [],
   "source": [
    "milkyWay=Galaxy()"
   ]
  },
  {
   "cell_type": "code",
   "execution_count": 54,
   "metadata": {},
   "outputs": [
    {
     "data": {
      "text/plain": [
       "{}"
      ]
     },
     "execution_count": 54,
     "metadata": {},
     "output_type": "execute_result"
    }
   ],
   "source": [
    "milkyWay.__dict__"
   ]
  },
  {
   "cell_type": "code",
   "execution_count": 55,
   "metadata": {},
   "outputs": [
    {
     "name": "stdout",
     "output_type": "stream",
     "text": [
      "<class '__main__.Galaxy'>\n"
     ]
    }
   ],
   "source": [
    "print(type(milkyWay))"
   ]
  },
  {
   "cell_type": "markdown",
   "metadata": {},
   "source": [
    "Everything in python is an object!!! Let's look at the list."
   ]
  },
  {
   "cell_type": "code",
   "execution_count": 56,
   "metadata": {},
   "outputs": [
    {
     "name": "stdout",
     "output_type": "stream",
     "text": [
      "<class 'list'>\n"
     ]
    }
   ],
   "source": [
    "lst=[1,2,3];\n",
    "print(type(lst))"
   ]
  },
  {
   "cell_type": "code",
   "execution_count": 57,
   "metadata": {},
   "outputs": [],
   "source": [
    "lst.append(4)"
   ]
  },
  {
   "cell_type": "code",
   "execution_count": 58,
   "metadata": {},
   "outputs": [
    {
     "data": {
      "text/plain": [
       "[1, 2, 3, 4]"
      ]
     },
     "execution_count": 58,
     "metadata": {},
     "output_type": "execute_result"
    }
   ],
   "source": [
    "lst"
   ]
  },
  {
   "cell_type": "markdown",
   "metadata": {},
   "source": [
    "How about integers or float?"
   ]
  },
  {
   "cell_type": "code",
   "execution_count": 59,
   "metadata": {},
   "outputs": [
    {
     "name": "stdout",
     "output_type": "stream",
     "text": [
      "<class 'int'>\n"
     ]
    }
   ],
   "source": [
    "x=2\n",
    "print(type(x))"
   ]
  },
  {
   "cell_type": "code",
   "execution_count": 60,
   "metadata": {},
   "outputs": [
    {
     "data": {
      "text/plain": [
       "2"
      ]
     },
     "execution_count": 60,
     "metadata": {},
     "output_type": "execute_result"
    }
   ],
   "source": [
    "x"
   ]
  },
  {
   "cell_type": "code",
   "execution_count": 61,
   "metadata": {},
   "outputs": [],
   "source": [
    "x=int(2)"
   ]
  },
  {
   "cell_type": "code",
   "execution_count": 62,
   "metadata": {},
   "outputs": [
    {
     "data": {
      "text/plain": [
       "'2'"
      ]
     },
     "execution_count": 62,
     "metadata": {},
     "output_type": "execute_result"
    }
   ],
   "source": [
    "x.__str__()"
   ]
  },
  {
   "cell_type": "code",
   "execution_count": 63,
   "metadata": {},
   "outputs": [
    {
     "name": "stdout",
     "output_type": "stream",
     "text": [
      "<class 'float'>\n",
      "<class 'tuple'>\n",
      "<class 'dict'>\n"
     ]
    }
   ],
   "source": [
    "print(type(1.5))\n",
    "print(type((1,2)))\n",
    "print(type({}))"
   ]
  },
  {
   "cell_type": "markdown",
   "metadata": {},
   "source": [
    "<br>"
   ]
  },
  {
   "cell_type": "markdown",
   "metadata": {},
   "source": [
    "#### Class Keyword\n",
    "The keyword **class** allows us to create a template/blueprint for instanciating/creating new objects. \n",
    "\n",
    "    class Particle:\n",
    "       ...\n",
    "    \n",
    "#### Attributes\n",
    "The attributes are state variables that characterizes the class and its objects. We usually use the syntax to set them: \n",
    "    \n",
    "    self.attribute = something"
   ]
  },
  {
   "cell_type": "markdown",
   "metadata": {},
   "source": [
    "The attributes that are independent on the instance and only on the class are called *class attributes*, and do not require *self*. Here is an example:"
   ]
  },
  {
   "cell_type": "code",
   "execution_count": 78,
   "metadata": {},
   "outputs": [],
   "source": [
    "class Particle:\n",
    "    G = 6.67 * 10**-11"
   ]
  },
  {
   "cell_type": "code",
   "execution_count": 79,
   "metadata": {},
   "outputs": [
    {
     "data": {
      "text/plain": [
       "6.67e-11"
      ]
     },
     "execution_count": 79,
     "metadata": {},
     "output_type": "execute_result"
    }
   ],
   "source": [
    "Particle.G"
   ]
  },
  {
   "cell_type": "code",
   "execution_count": 80,
   "metadata": {},
   "outputs": [],
   "source": [
    "aGasParticle=Particle()"
   ]
  },
  {
   "cell_type": "code",
   "execution_count": 81,
   "metadata": {},
   "outputs": [
    {
     "data": {
      "text/plain": [
       "6.67e-11"
      ]
     },
     "execution_count": 81,
     "metadata": {},
     "output_type": "execute_result"
    }
   ],
   "source": [
    "aGasParticle.G"
   ]
  },
  {
   "cell_type": "code",
   "execution_count": 82,
   "metadata": {},
   "outputs": [
    {
     "data": {
      "text/plain": [
       "1e-10"
      ]
     },
     "execution_count": 82,
     "metadata": {},
     "output_type": "execute_result"
    }
   ],
   "source": [
    "aGasParticle.G = 10**-10\n",
    "aGasParticle.G"
   ]
  },
  {
   "cell_type": "code",
   "execution_count": 83,
   "metadata": {},
   "outputs": [
    {
     "data": {
      "text/plain": [
       "6.67e-11"
      ]
     },
     "execution_count": 83,
     "metadata": {},
     "output_type": "execute_result"
    }
   ],
   "source": [
    "Particle.G"
   ]
  },
  {
   "cell_type": "markdown",
   "metadata": {},
   "source": [
    "What should be the attributes of our Particle class? Let us come back to that after discussing the methods as object attributes can only be defined inside a methods."
   ]
  },
  {
   "cell_type": "markdown",
   "metadata": {},
   "source": [
    "#### Methods\n",
    "The methods are the actions/operations that an object can do or can be done on it. They are declared inside the classes in the usual way you declare a function except they have the *self* keyword. This keyword, should not be used when calling the function.\n",
    "\n",
    "    class MyClass:\n",
    "       def my_function(self, arg1, arg2, ...):\n",
    "           ...\n",
    "\n",
    "There is a special method called:\n",
    "\n",
    "    __init__()\n",
    "\n",
    "that allows us to construct objects and initialize their states."
   ]
  },
  {
   "cell_type": "markdown",
   "metadata": {},
   "source": [
    "Since each particle has its own position, and velocity, let us have them as the attributes of our particle objects."
   ]
  },
  {
   "cell_type": "code",
   "execution_count": 115,
   "metadata": {},
   "outputs": [],
   "source": [
    "class Particle:\n",
    "    def __init__(self,x=0.,y=0.,z=0.,vx=0.,vy=0.,vz=0.):\n",
    "        self.x,self.y,self.z=x,y,z\n",
    "        self.vx,self.vy,self.vz=vx,vy,vz"
   ]
  },
  {
   "cell_type": "markdown",
   "metadata": {},
   "source": [
    "Instanciate a particle object using the default value attributes. When we call Particle(), the __init__ is executed using the default values."
   ]
  },
  {
   "cell_type": "code",
   "execution_count": 116,
   "metadata": {},
   "outputs": [],
   "source": [
    "aParticle=Particle()"
   ]
  },
  {
   "cell_type": "markdown",
   "metadata": {},
   "source": [
    "Get the position of the particle by accessing the aParticle object x, y and z attributes: "
   ]
  },
  {
   "cell_type": "code",
   "execution_count": 120,
   "metadata": {},
   "outputs": [
    {
     "name": "stdout",
     "output_type": "stream",
     "text": [
      "Pos=(0.0,0.0,0.0)\n"
     ]
    }
   ],
   "source": [
    "print('Pos=({},{},{})'.format(aParticle.x,aParticle.y,aParticle.z))"
   ]
  },
  {
   "cell_type": "markdown",
   "metadata": {},
   "source": [
    "Instanciate another particle with $x=1, y=2, z=3, vx=0.5,vy=0.,$ and $vz=0.0$:"
   ]
  },
  {
   "cell_type": "code",
   "execution_count": 121,
   "metadata": {},
   "outputs": [],
   "source": [
    "bParticle=Particle(x=1., y=2., z=3., vx=0.5)"
   ]
  },
  {
   "cell_type": "code",
   "execution_count": 122,
   "metadata": {},
   "outputs": [
    {
     "name": "stdout",
     "output_type": "stream",
     "text": [
      "Pos=(1.0,2.0,3.0)\n"
     ]
    }
   ],
   "source": [
    "print('Pos=({},{},{})'.format(bParticle.x,bParticle.y,bParticle.z))"
   ]
  },
  {
   "cell_type": "markdown",
   "metadata": {},
   "source": [
    "Do you see an issue with our abstraction and encapsulation?"
   ]
  },
  {
   "cell_type": "markdown",
   "metadata": {},
   "source": [
    "<br>"
   ]
  },
  {
   "cell_type": "code",
   "execution_count": 345,
   "metadata": {},
   "outputs": [],
   "source": [
    "class Particle:\n",
    "    def __init__(self,x=0.,y=0.,z=0.,vx=0.,vy=0.,vz=0.):\n",
    "        self.x,self.y,self.z=x,y,z\n",
    "        self.vx,self.vy,self.vz=vx,vy,vz\n",
    "    def get_position(self):\n",
    "        return (self.x,self.y,self.z)\n",
    "    def get_velocity(self):\n",
    "        return (self.vx,self.vy,self.vz)"
   ]
  },
  {
   "cell_type": "code",
   "execution_count": 346,
   "metadata": {},
   "outputs": [],
   "source": [
    "bParticle=Particle(x=1., y=2., z=3., vx=0.5)"
   ]
  },
  {
   "cell_type": "code",
   "execution_count": 347,
   "metadata": {},
   "outputs": [
    {
     "name": "stdout",
     "output_type": "stream",
     "text": [
      "(1.0, 2.0, 3.0)\n"
     ]
    }
   ],
   "source": [
    "print(bParticle.get_position())"
   ]
  },
  {
   "cell_type": "markdown",
   "metadata": {},
   "source": [
    "But even printing should be done by the object itself; each object should know how to print itself."
   ]
  },
  {
   "cell_type": "code",
   "execution_count": 348,
   "metadata": {},
   "outputs": [],
   "source": [
    "class Particle:\n",
    "    def __init__(self,x=0.,y=0.,z=0.,vx=0.,vy=0.,vz=0.):\n",
    "        self.x,self.y,self.z=x,y,z\n",
    "        self.vx,self.vy,self.vz=vx,vy,vz\n",
    "    def get_position(self):\n",
    "        return (self.x,self.y,self.z)\n",
    "    def get_velocity(self):\n",
    "        return (self.vx,self.vy,self.vz)\n",
    "    def __str__(self):\n",
    "        return 'P=({},{},{}), V=({},{},{})'.format(*self.get_position(),*self.get_velocity())"
   ]
  },
  {
   "cell_type": "code",
   "execution_count": 350,
   "metadata": {},
   "outputs": [],
   "source": [
    "bParticle=Particle(x=1., y=2., z=3., vx=0.5)"
   ]
  },
  {
   "cell_type": "code",
   "execution_count": 351,
   "metadata": {},
   "outputs": [
    {
     "name": "stdout",
     "output_type": "stream",
     "text": [
      "P=(1.0,2.0,3.0), V=(0.5,0.0,0.0)\n"
     ]
    }
   ],
   "source": [
    "print(bParticle)"
   ]
  },
  {
   "cell_type": "code",
   "execution_count": 180,
   "metadata": {},
   "outputs": [
    {
     "data": {
      "text/plain": [
       "'P=(1.0,2.0,3.0), V=(0.5,0.0,0.0)'"
      ]
     },
     "execution_count": 180,
     "metadata": {},
     "output_type": "execute_result"
    }
   ],
   "source": [
    "str(bParticle)"
   ]
  },
  {
   "cell_type": "markdown",
   "metadata": {},
   "source": [
    "The method *__str__* is another special function; It allows us to convert our object to a string. They kind of function are called\n",
    "magic/Dunder methods."
   ]
  },
  {
   "cell_type": "markdown",
   "metadata": {},
   "source": [
    "How to express the dynamics? We can for each particle object to move by incrementing its x, y and z from the outside but that will break the encapsulation. Therefore, the \"move\" action should be a method in our Particle class:"
   ]
  },
  {
   "cell_type": "code",
   "execution_count": 135,
   "metadata": {},
   "outputs": [],
   "source": [
    "class Particle:\n",
    "    def __init__(self,x=0.,y=0.,z=0.,vx=0.,vy=0.,vz=0.):\n",
    "        self.x,self.y,self.z=x,y,z\n",
    "        self.vx,self.vy,self.vz=vx,vy,vz\n",
    "    def get_position(self):\n",
    "        return (self.x,self.y,self.z)\n",
    "    def get_velocity(self):\n",
    "        return (self.vx,self.vy,self.vz)\n",
    "    def move(self, dx,dy,dz):\n",
    "        self.x,self.y,self.z = self.x+dx,self.y+dy,self.z+dz\n",
    "    def __str__(self):\n",
    "        return 'P=({},{},{}), V=({},{},{})'.format(*self.get_position(),*self.get_velocity())"
   ]
  },
  {
   "cell_type": "code",
   "execution_count": 143,
   "metadata": {},
   "outputs": [],
   "source": [
    "bParticle=Particle(x=1., y=2., z=3., vx=0.5)"
   ]
  },
  {
   "cell_type": "code",
   "execution_count": 144,
   "metadata": {},
   "outputs": [
    {
     "name": "stdout",
     "output_type": "stream",
     "text": [
      "P=(1.0,2.0,3.0), V=(0.5,0.0,0.0)\n"
     ]
    }
   ],
   "source": [
    "print(bParticle)"
   ]
  },
  {
   "cell_type": "code",
   "execution_count": 145,
   "metadata": {},
   "outputs": [],
   "source": [
    "bParticle.move(0.1,0.1,0.1)"
   ]
  },
  {
   "cell_type": "code",
   "execution_count": 146,
   "metadata": {},
   "outputs": [
    {
     "name": "stdout",
     "output_type": "stream",
     "text": [
      "P=(1.1,2.1,3.1), V=(0.5,0.0,0.0)\n"
     ]
    }
   ],
   "source": [
    "print(bParticle)"
   ]
  },
  {
   "cell_type": "markdown",
   "metadata": {},
   "source": [
    "What other methods should we add? How about a kick to update the position given a $\\delta t$? "
   ]
  },
  {
   "cell_type": "markdown",
   "metadata": {},
   "source": [
    "Can we have another move with the following signature:\n",
    "    \n",
    "       def move(self, dt):\n",
    "          ...\n",
    "          "
   ]
  },
  {
   "cell_type": "markdown",
   "metadata": {},
   "source": [
    "In OO, we cal that **overloading**."
   ]
  },
  {
   "cell_type": "markdown",
   "metadata": {},
   "source": [
    "Python does not allow overloading but we can emulate it using the default values passed to the function."
   ]
  },
  {
   "cell_type": "code",
   "execution_count": 161,
   "metadata": {},
   "outputs": [],
   "source": [
    "class Particle:\n",
    "    def __init__(self,x=0.,y=0.,z=0.,vx=0.,vy=0.,vz=0.):\n",
    "        self.x,self.y,self.z=x,y,z\n",
    "        self.vx,self.vy,self.vz=vx,vy,vz\n",
    "    def get_position(self):\n",
    "        return (self.x,self.y,self.z)\n",
    "    def get_velocity(self):\n",
    "        return (self.vx,self.vy,self.vz)\n",
    "    def move(self, dx=0.,dy=0.,dz=0.,dt=None):\n",
    "        if dt is None:\n",
    "            self.x,self.y,self.z = self.x+dx,self.y+dy,self.z+dz \n",
    "        else:\n",
    "            self.x,self.y,self.z = self.x+self.vx*dt,self.y+self.vy*dt,self.z+self.vz*dt\n",
    "    def __str__(self):\n",
    "        return 'P=({},{},{}), V=({},{},{})'.format(*self.get_position(),*self.get_velocity())"
   ]
  },
  {
   "cell_type": "code",
   "execution_count": 162,
   "metadata": {},
   "outputs": [],
   "source": [
    "bParticle=Particle(x=1., y=2., z=3., vx=0.5)"
   ]
  },
  {
   "cell_type": "code",
   "execution_count": 163,
   "metadata": {},
   "outputs": [
    {
     "name": "stdout",
     "output_type": "stream",
     "text": [
      "P=(1.0,2.0,3.0), V=(0.5,0.0,0.0)\n"
     ]
    }
   ],
   "source": [
    "print(bParticle)"
   ]
  },
  {
   "cell_type": "code",
   "execution_count": 164,
   "metadata": {},
   "outputs": [],
   "source": [
    "bParticle.move(0.1,0.1,0.1)"
   ]
  },
  {
   "cell_type": "code",
   "execution_count": 165,
   "metadata": {},
   "outputs": [
    {
     "name": "stdout",
     "output_type": "stream",
     "text": [
      "P=(1.1,2.1,3.1), V=(0.5,0.0,0.0)\n"
     ]
    }
   ],
   "source": [
    "print(bParticle)"
   ]
  },
  {
   "cell_type": "code",
   "execution_count": 166,
   "metadata": {},
   "outputs": [],
   "source": [
    "bParticle.move(0.1,0.1,0.1,0.1)"
   ]
  },
  {
   "cell_type": "code",
   "execution_count": 167,
   "metadata": {},
   "outputs": [
    {
     "name": "stdout",
     "output_type": "stream",
     "text": [
      "P=(1.1500000000000001,2.1,3.1), V=(0.5,0.0,0.0)\n"
     ]
    }
   ],
   "source": [
    "print(bParticle)"
   ]
  },
  {
   "cell_type": "markdown",
   "metadata": {},
   "source": [
    "Is that a good design? It is not for the following reasons:\n",
    "   1.   Minimal responsibilities principle\n",
    "   1.   Maximum reuse\n",
    "   1.   Minimal code duplication"
   ]
  },
  {
   "cell_type": "code",
   "execution_count": 200,
   "metadata": {},
   "outputs": [],
   "source": [
    "class Particle:\n",
    "    def __init__(self,x=0.,y=0.,z=0.,vx=0.,vy=0.,vz=0.):\n",
    "        self.x,self.y,self.z=x,y,z\n",
    "        self.vx,self.vy,self.vz=vx,vy,vz\n",
    "    def get_position(self):\n",
    "        return (self.x,self.y,self.z)\n",
    "    def get_velocity(self):\n",
    "        return (self.vx,self.vy,self.vz)\n",
    "    def move(self, dx,dy,dz):\n",
    "        self.x,self.y,self.z = self.x+dx,self.y+dy,self.z+dz \n",
    "    def kick(self,dt):\n",
    "        dx,dy,dz = self.vx*dt,self.vy*dt,self.vz*dt\n",
    "        self.move(dx,dy,dz)\n",
    "    def get_type(self):\n",
    "        return None\n",
    "    def __str__(self):\n",
    "        return 'P=({},{},{}), V=({},{},{})'.format(*self.get_position(),*self.get_velocity())"
   ]
  },
  {
   "cell_type": "markdown",
   "metadata": {},
   "source": [
    "How about the attributes? Do we need the mass, the total force, the acceleration, etc.? But before going there, what about galaxy? How should we abstract it? What are the attributes and the methods? "
   ]
  },
  {
   "cell_type": "markdown",
   "metadata": {},
   "source": [
    "The Galaxy is composed of a sequence of particles. We can also add the position and the velocity of the galaxy. How about this picture?\n",
    "\n",
    "<center><img src='./images/classGen_One.jpg' style='width:650px;height:auto'/></center>\n"
   ]
  },
  {
   "cell_type": "markdown",
   "metadata": {},
   "source": [
    "Once we have a reasonable design, let us dive right away into the implementation."
   ]
  },
  {
   "cell_type": "code",
   "execution_count": 352,
   "metadata": {},
   "outputs": [],
   "source": [
    "class Galaxy:\n",
    "    def __init__(self,particles=None):\n",
    "        self.particles=[] if particles is None else particles\n",
    "    def add_particle(self, particle):\n",
    "        if particle not in self.particles:\n",
    "            self.particles.append(particle)\n",
    "    def remove_particle(self, particle):\n",
    "        if particle in self.particles:\n",
    "            self.particles.remove(particle)\n",
    "    def evolve(self,dt):\n",
    "        for particle in self.particles:\n",
    "            particle.kick(dt)\n",
    "    def show(self):\n",
    "        import matplotlib.pyplot as plt\n",
    "        from mpl_toolkits.mplot3d import Axes3D\n",
    "        fig = plt.figure()\n",
    "        ax = fig.add_subplot(111, projection='3d')\n",
    "        positions=[particle.get_position() for particle in self.particles]\n",
    "        xs,ys,zs=zip(*positions)\n",
    "        ax.scatter(xs,ys,zs)\n",
    "        plt.show()\n",
    "        "
   ]
  },
  {
   "cell_type": "code",
   "execution_count": 353,
   "metadata": {},
   "outputs": [],
   "source": [
    "milkyWay= Galaxy()\n",
    "milkyWay.add_particle(bParticle)"
   ]
  },
  {
   "cell_type": "code",
   "execution_count": 354,
   "metadata": {},
   "outputs": [
    {
     "data": {
      "image/png": "[encoded data removed]",
      "text/plain": [
       "<Figure size 432x288 with 1 Axes>"
      ]
     },
     "metadata": {
      "needs_background": "light"
     },
     "output_type": "display_data"
    }
   ],
   "source": [
    "milkyWay.show()"
   ]
  },
  {
   "cell_type": "code",
   "execution_count": 262,
   "metadata": {},
   "outputs": [],
   "source": [
    "import random\n",
    "import numpy as np\n",
    "for x in np.linspace(-1,1,100):\n",
    "    milkyWay.add_particle(Particle(x,x+1,-np.sqrt(x**2+(x+1)**2)))\n",
    "    milkyWay.add_particle(Particle(x,x+1,np.sqrt(x**2+(x+1)**2)))"
   ]
  },
  {
   "cell_type": "code",
   "execution_count": 263,
   "metadata": {},
   "outputs": [
    {
     "data": {
      "image/png": "[encoded data removed]",
      "text/plain": [
       "<Figure size 432x288 with 1 Axes>"
      ]
     },
     "metadata": {
      "needs_background": "light"
     },
     "output_type": "display_data"
    }
   ],
   "source": [
    "milkyWay.show()"
   ]
  },
  {
   "cell_type": "code",
   "execution_count": 264,
   "metadata": {},
   "outputs": [],
   "source": [
    "milkyWay.evolve(10.0)"
   ]
  },
  {
   "cell_type": "code",
   "execution_count": 265,
   "metadata": {},
   "outputs": [
    {
     "data": {
      "image/png": "[encoded data removed]",
      "text/plain": [
       "<Figure size 432x288 with 1 Axes>"
      ]
     },
     "metadata": {
      "needs_background": "light"
     },
     "output_type": "display_data"
    }
   ],
   "source": [
    "milkyWay.show()"
   ]
  },
  {
   "cell_type": "markdown",
   "metadata": {},
   "source": [
    "<br>"
   ]
  },
  {
   "cell_type": "markdown",
   "metadata": {},
   "source": [
    "So far our particle is so abstract that it is too general and far from **representing** gas, stars, etc. Should we add an integer that represent the type to our attributes? What if your customer, supervisor, want to add a new particle kind?"
   ]
  },
  {
   "cell_type": "markdown",
   "metadata": {},
   "source": [
    "What design should we to:\n",
    "   1. avoid changing the existing code\n",
    "   1. easily extend the existing functionality"
   ]
  },
  {
   "cell_type": "markdown",
   "metadata": {},
   "source": [
    "That's we do next ..."
   ]
  },
  {
   "cell_type": "markdown",
   "metadata": {},
   "source": [
    "# - Inheritance\n",
    "\n",
    "Inheritance is an OO design that allows to form a new class from existing classes. \n",
    "The newly formed class is called **derived** or **child** class, while the existing\n",
    "classes are called **base** or **parent** classes. \n",
    "\n",
    "Inheritance allows for code reuse and design flexibility. \n",
    "A derived class can **override** or **extend** the functionality of the parent classes."
   ]
  },
  {
   "cell_type": "markdown",
   "metadata": {},
   "source": [
    "Let us go back to the proper way to handle our different particles. Each one of them can be viewed as a special kind of Particle.\n",
    "Therefore we go with inheritance."
   ]
  },
  {
   "cell_type": "markdown",
   "metadata": {},
   "source": [
    "We can extend our design as follows\n",
    "<center><img src='./images/classGen_Two.jpg' style='width:700px;height:auto'/></center>\n"
   ]
  },
  {
   "cell_type": "code",
   "execution_count": 320,
   "metadata": {},
   "outputs": [],
   "source": [
    "class GasParticle(Particle):\n",
    "    def __init__(self,x=0.,y=0.,z=0.,vx=0.,vy=0.,vz=0.,temperature=0.,density=0.0):\n",
    "        super().__init__(x,y,z,vx,vy,vz)\n",
    "        self.temperature=temperature\n",
    "        self.density=density\n",
    "    def get_density(self):\n",
    "        return self.density      \n",
    "    def get_temperature(self):\n",
    "        return self.temperature      \n",
    "\n",
    "    def get_type(self):\n",
    "        return \"Gas\"\n",
    "    def __str__(self):\n",
    "        return super().__str__()+', T={}, Rho={}'.format(self.temperature,self.density)"
   ]
  },
  {
   "cell_type": "code",
   "execution_count": 321,
   "metadata": {},
   "outputs": [],
   "source": [
    "class DarkMatterParticle(Particle):\n",
    "    def __init__(self,x=0.,y=0.,z=0.,vx=0.,vy=0.,vz=0.,density=0.0):\n",
    "        super().__init__(x,y,z,vx,vy,vz)\n",
    "        self.density=density\n",
    "        \n",
    "    def get_type(self):\n",
    "        return \"DarkMatter\"\n",
    "    def get_density(self):\n",
    "        return self.density\n",
    "    def __str__(self):\n",
    "        return super().__str__()+', Rho={}'.format(self.density)"
   ]
  },
  {
   "cell_type": "code",
   "execution_count": 322,
   "metadata": {},
   "outputs": [],
   "source": [
    "aGasParticle = GasParticle()"
   ]
  },
  {
   "cell_type": "code",
   "execution_count": 323,
   "metadata": {},
   "outputs": [
    {
     "data": {
      "text/plain": [
       "{'x': 0.0,\n",
       " 'y': 0.0,\n",
       " 'z': 0.0,\n",
       " 'vx': 0.0,\n",
       " 'vy': 0.0,\n",
       " 'vz': 0.0,\n",
       " 'temperature': 0.0,\n",
       " 'density': 0.0}"
      ]
     },
     "execution_count": 323,
     "metadata": {},
     "output_type": "execute_result"
    }
   ],
   "source": [
    "aGasParticle.__dict__"
   ]
  },
  {
   "cell_type": "code",
   "execution_count": 324,
   "metadata": {},
   "outputs": [
    {
     "name": "stdout",
     "output_type": "stream",
     "text": [
      "Help on GasParticle in module __main__ object:\n",
      "\n",
      "class GasParticle(Particle)\n",
      " |  Method resolution order:\n",
      " |      GasParticle\n",
      " |      Particle\n",
      " |      builtins.object\n",
      " |  \n",
      " |  Methods defined here:\n",
      " |  \n",
      " |  __init__(self, x=0.0, y=0.0, z=0.0, vx=0.0, vy=0.0, vz=0.0, temperature=0.0, density=0.0)\n",
      " |      Initialize self.  See help(type(self)) for accurate signature.\n",
      " |  \n",
      " |  __str__(self)\n",
      " |      Return str(self).\n",
      " |  \n",
      " |  get_density(self)\n",
      " |  \n",
      " |  get_temperature(self)\n",
      " |  \n",
      " |  get_type(self)\n",
      " |  \n",
      " |  ----------------------------------------------------------------------\n",
      " |  Methods inherited from Particle:\n",
      " |  \n",
      " |  get_position(self)\n",
      " |  \n",
      " |  get_velocity(self)\n",
      " |  \n",
      " |  kick(self, dt)\n",
      " |  \n",
      " |  move(self, dx, dy, dz)\n",
      " |  \n",
      " |  ----------------------------------------------------------------------\n",
      " |  Data descriptors inherited from Particle:\n",
      " |  \n",
      " |  __dict__\n",
      " |      dictionary for instance variables (if defined)\n",
      " |  \n",
      " |  __weakref__\n",
      " |      list of weak references to the object (if defined)\n",
      "\n"
     ]
    }
   ],
   "source": [
    "help(aGasParticle)"
   ]
  },
  {
   "cell_type": "code",
   "execution_count": 325,
   "metadata": {},
   "outputs": [
    {
     "data": {
      "text/plain": [
       "'Gas'"
      ]
     },
     "execution_count": 325,
     "metadata": {},
     "output_type": "execute_result"
    }
   ],
   "source": [
    "aGasParticle.get_type()"
   ]
  },
  {
   "cell_type": "code",
   "execution_count": 326,
   "metadata": {},
   "outputs": [
    {
     "name": "stdout",
     "output_type": "stream",
     "text": [
      "P=(0.0,0.0,0.0), V=(0.0,0.0,0.0), T=0.0, Rho=0.0\n"
     ]
    }
   ],
   "source": [
    "print(aGasParticle)"
   ]
  },
  {
   "cell_type": "code",
   "execution_count": 327,
   "metadata": {},
   "outputs": [],
   "source": [
    "aDarkMatter=DarkMatterParticle(density=10.0)"
   ]
  },
  {
   "cell_type": "code",
   "execution_count": 328,
   "metadata": {},
   "outputs": [
    {
     "name": "stdout",
     "output_type": "stream",
     "text": [
      "P=(0.0,0.0,0.0), V=(0.0,0.0,0.0), Rho=10.0\n"
     ]
    }
   ],
   "source": [
    "print(aDarkMatter)"
   ]
  },
  {
   "cell_type": "markdown",
   "metadata": {},
   "source": [
    "Do you see what the new classes **inherited**, **extended** and **overriden**?"
   ]
  },
  {
   "cell_type": "markdown",
   "metadata": {},
   "source": [
    "# - Polymorphism\n",
    "Polymorphism mean \"many forms\", and is the property of being able to automatically carry out the correct behavir even when\n",
    "the underlying objects we are working on have different forms. Therefore, the same operation can lead to different\n",
    "behavior according to the type of the objects used. Think of what happens when you open a file on your machine!\n",
    "\n",
    "In Python, *polymorphism* allows to call the same method on different objects. Let us look at a sample example."
   ]
  },
  {
   "cell_type": "code",
   "execution_count": 329,
   "metadata": {},
   "outputs": [
    {
     "data": {
      "text/plain": [
       "3.0"
      ]
     },
     "execution_count": 329,
     "metadata": {},
     "output_type": "execute_result"
    }
   ],
   "source": [
    "a=1.0;b=2.0\n",
    "a+b"
   ]
  },
  {
   "cell_type": "code",
   "execution_count": 330,
   "metadata": {},
   "outputs": [
    {
     "data": {
      "text/plain": [
       "'Hi everyone'"
      ]
     },
     "execution_count": 330,
     "metadata": {},
     "output_type": "execute_result"
    }
   ],
   "source": [
    "a='Hi '; b='everyone'\n",
    "a+b"
   ]
  },
  {
   "cell_type": "code",
   "execution_count": 331,
   "metadata": {},
   "outputs": [
    {
     "data": {
      "text/plain": [
       "[1, 2, 3, 4]"
      ]
     },
     "execution_count": 331,
     "metadata": {},
     "output_type": "execute_result"
    }
   ],
   "source": [
    "a=[1,2]; b=[3,4]\n",
    "a+b"
   ]
  },
  {
   "cell_type": "markdown",
   "metadata": {},
   "source": [
    "Let us assume that the gases have a different move function. Also, the *evolve* function in galaxy could be abstracted and become *kick*. The new design diagram is now.\n",
    "<center><img src='./images/classGen_Three.jpg'/></center>"
   ]
  },
  {
   "cell_type": "code",
   "execution_count": 332,
   "metadata": {},
   "outputs": [],
   "source": [
    "class GasParticle(Particle):\n",
    "    def __init__(self,x=0.,y=0.,z=0.,vx=0.,vy=0.,vz=0.,temperature=0.,density=0.0):\n",
    "        super().__init__(x,y,z,vx,vy,vz)\n",
    "        self.temperature=temperature\n",
    "        self.density=density\n",
    "    def get_density(self):\n",
    "        return self.density      \n",
    "    def get_temperature(self):\n",
    "        return self.temperature      \n",
    "    def kick(self, dt):\n",
    "        super().kick(dt)\n",
    "        self.temperature+=self.temperature*dt\n",
    "    def get_type(self):\n",
    "        return \"Gas\"\n",
    "    def __str__(self):\n",
    "        return super().__str__()+', T={}, Rho={}'.format(self.temperature,self.density)"
   ]
  },
  {
   "cell_type": "code",
   "execution_count": 333,
   "metadata": {},
   "outputs": [],
   "source": [
    "class Galaxy:\n",
    "    def __init__(self,particles=None):\n",
    "        self.particles=[] if particles is None else particles\n",
    "    def add_particle(self, particle):\n",
    "        if particle not in self.particles:\n",
    "            self.particles.append(particle)\n",
    "    def remove_particle(self, particle):\n",
    "        if particle in self.particles:\n",
    "            self.particles.remove(particle)\n",
    "    def kick(self,dt):\n",
    "        for particle in self.particles:\n",
    "            particle.kick(dt)\n",
    "    def show(self):\n",
    "        import matplotlib.pyplot as plt\n",
    "        from mpl_toolkits.mplot3d import Axes3D\n",
    "        fig = plt.figure()\n",
    "        ax = fig.add_subplot(111, projection='3d')\n",
    "        positions=[(particle.x,particle.y,particle.z) for particle in self.particles]\n",
    "        xs,ys,zs=zip(*positions)\n",
    "        ax.scatter(xs,ys,zs)\n",
    "        plt.show()\n",
    "    def __str__(self):\n",
    "        return \" -;- \".join([str(particle) for particle in self.particles])\n",
    "        "
   ]
  },
  {
   "cell_type": "code",
   "execution_count": 342,
   "metadata": {},
   "outputs": [],
   "source": [
    "aGasParticle=GasParticle(vx=1.);bDarkMatter=DarkMatterParticle(vy=2.);cParticle=Particle(vz=3.);\n",
    "milkyWay=Galaxy([aGasParticle,bDarkMatter,cParticle]);"
   ]
  },
  {
   "cell_type": "code",
   "execution_count": 343,
   "metadata": {},
   "outputs": [
    {
     "name": "stdout",
     "output_type": "stream",
     "text": [
      "P=(0.0,0.0,0.0), V=(1.0,0.0,0.0), T=0.0, Rho=0.0 -;- P=(0.0,0.0,0.0), V=(0.0,2.0,0.0), Rho=0.0 -;- P=(0.0,0.0,0.0), V=(0.0,0.0,3.0)\n"
     ]
    }
   ],
   "source": [
    "print(milkyWay)\n",
    "aGasParticle=GasParticle(vx=1.);bDarkMatter=DarkMatterParticle(vy=2.);cParticle=Particle(vz=3.);"
   ]
  },
  {
   "cell_type": "code",
   "execution_count": 344,
   "metadata": {},
   "outputs": [
    {
     "name": "stdout",
     "output_type": "stream",
     "text": [
      "P=(10.0,0.0,0.0), V=(1.0,0.0,0.0), T=0.0, Rho=0.0 -;- P=(0.0,20.0,0.0), V=(0.0,2.0,0.0), Rho=0.0 -;- P=(0.0,0.0,30.0), V=(0.0,0.0,3.0)\n",
      "P=(10.0,0.0,0.0), V=(1.0,0.0,0.0), T=0.0, Rho=0.0\n",
      "P=(0.0,20.0,0.0), V=(0.0,2.0,0.0), Rho=0.0\n",
      "P=(0.0,0.0,30.0), V=(0.0,0.0,3.0)\n"
     ]
    }
   ],
   "source": [
    "for obj in [milkyWay, aGasParticle, bDarkMatter, cParticle]:\n",
    "    obj.kick(10.)\n",
    "    print(obj)"
   ]
  },
  {
   "cell_type": "markdown",
   "metadata": {},
   "source": [
    "## More Special Methods\n",
    "In addition, to __str__ and __init__, there many other magic/dunder functions that allow us to use Python built-in functions on objects created through our class. For example __len__(), __add__(), __repr__(), and __del__() methods"
   ]
  },
  {
   "cell_type": "code",
   "execution_count": 275,
   "metadata": {},
   "outputs": [
    {
     "ename": "TypeError",
     "evalue": "object of type 'Galaxy' has no len()",
     "output_type": "error",
     "traceback": [
      "\u001b[0;31m---------------------------------------------------------------------------\u001b[0m",
      "\u001b[0;31mTypeError\u001b[0m                                 Traceback (most recent call last)",
      "\u001b[0;32m<ipython-input-275-5ec4b394e96b>\u001b[0m in \u001b[0;36m<module>\u001b[0;34m\u001b[0m\n\u001b[0;32m----> 1\u001b[0;31m \u001b[0mlen\u001b[0m\u001b[0;34m(\u001b[0m\u001b[0mmilkyWay\u001b[0m\u001b[0;34m)\u001b[0m\u001b[0;34m\u001b[0m\u001b[0;34m\u001b[0m\u001b[0m\n\u001b[0m",
      "\u001b[0;31mTypeError\u001b[0m: object of type 'Galaxy' has no len()"
     ]
    }
   ],
   "source": [
    "len(milkyWay)"
   ]
  },
  {
   "cell_type": "code",
   "execution_count": 357,
   "metadata": {},
   "outputs": [],
   "source": [
    "class Galaxy:\n",
    "    def __init__(self,particles=None):\n",
    "        self.particles=[] if particles is None else particles\n",
    "    def add_particle(self, particle):\n",
    "        if particle not in self.particles:\n",
    "            self.particles.append(particle)\n",
    "    def remove_particle(self, particle):\n",
    "        if particle in self.particles:\n",
    "            self.particles.remove(particle)\n",
    "    def evolve(self,dt):\n",
    "        for particle in self.particles:\n",
    "            particle.kick(dt)\n",
    "    def __add__(self, particle):\n",
    "        self.add_particle(particle)\n",
    "    def __len__(self):\n",
    "        return len(self.particles)\n",
    "    def show(self):\n",
    "        import matplotlib.pyplot as plt\n",
    "        from mpl_toolkits.mplot3d import Axes3D\n",
    "        fig = plt.figure()\n",
    "        ax = fig.add_subplot(111, projection='3d')\n",
    "        positions=[(particle.x,particle.y,particle.z) for particle in self.particles]\n",
    "        xs,ys,zs=zip(*positions)\n",
    "        ax.scatter(xs,ys,zs)\n",
    "        plt.show()\n",
    "        "
   ]
  },
  {
   "cell_type": "code",
   "execution_count": 359,
   "metadata": {},
   "outputs": [],
   "source": [
    "milkyWay= Galaxy()\n",
    "milkyWay.add_particle(bParticle)"
   ]
  },
  {
   "cell_type": "code",
   "execution_count": 360,
   "metadata": {},
   "outputs": [
    {
     "data": {
      "text/plain": [
       "1"
      ]
     },
     "execution_count": 360,
     "metadata": {},
     "output_type": "execute_result"
    }
   ],
   "source": [
    "len(milkyWay)"
   ]
  },
  {
   "cell_type": "code",
   "execution_count": 361,
   "metadata": {},
   "outputs": [
    {
     "data": {
      "image/png": "[encoded data removed]",
      "text/plain": [
       "<Figure size 432x288 with 1 Axes>"
      ]
     },
     "metadata": {
      "needs_background": "light"
     },
     "output_type": "display_data"
    }
   ],
   "source": [
    "milkyWay.show()"
   ]
  },
  {
   "cell_type": "code",
   "execution_count": 362,
   "metadata": {},
   "outputs": [],
   "source": [
    "import random\n",
    "import numpy as np\n",
    "for x in np.linspace(-1,1,100):\n",
    "    milkyWay.add_particle(Particle(x,x+1,-np.sqrt(x**2+(x+1)**2)))\n",
    "    milkyWay.add_particle(Particle(x,x+1,np.sqrt(x**2+(x+1)**2)))"
   ]
  },
  {
   "cell_type": "code",
   "execution_count": 363,
   "metadata": {},
   "outputs": [
    {
     "data": {
      "text/plain": [
       "201"
      ]
     },
     "execution_count": 363,
     "metadata": {},
     "output_type": "execute_result"
    }
   ],
   "source": [
    "len(milkyWay)"
   ]
  },
  {
   "cell_type": "code",
   "execution_count": 364,
   "metadata": {},
   "outputs": [],
   "source": [
    "milkyWay+Particle(1,2,3)"
   ]
  },
  {
   "cell_type": "code",
   "execution_count": 365,
   "metadata": {},
   "outputs": [
    {
     "data": {
      "text/plain": [
       "202"
      ]
     },
     "execution_count": 365,
     "metadata": {},
     "output_type": "execute_result"
    }
   ],
   "source": [
    "len(milkyWay)"
   ]
  },
  {
   "cell_type": "markdown",
   "metadata": {},
   "source": [
    "Done!!!"
   ]
  }
 ],
 "metadata": {
  "kernelspec": {
   "display_name": "Python 3",
   "language": "python",
   "name": "python3"
  },
  "language_info": {
   "codemirror_mode": {
    "name": "ipython",
    "version": 3
   },
   "file_extension": ".py",
   "mimetype": "text/x-python",
   "name": "python",
   "nbconvert_exporter": "python",
   "pygments_lexer": "ipython3",
   "version": "3.6.7"
  }
 },
 "nbformat": 4,
 "nbformat_minor": 2
}
