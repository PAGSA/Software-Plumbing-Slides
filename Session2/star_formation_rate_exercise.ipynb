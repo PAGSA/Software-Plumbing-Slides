{
 "cells": [
  {
   "cell_type": "markdown",
   "metadata": {},
   "source": [
    "# Working with data and numpy\n",
    "By: Doug Rennehan (TA)\n",
    "\n",
    "In the **/data/** folder there is a file called **formation_times.txt**.  This single column of data gives the formation times (in billions of years, or $\\mathrm{Gyr}$) of stars in a simulation of an isolated galaxy. Let's investigate the distribution of formation times, and determine the star formation rate of the system. \n",
    "\n",
    "For now, we assume that each \"star\" is $M_* = 2\\times10^5 \\, \\mathrm{M}_\\odot$, where $\\mathrm{M}_\\odot$ is the mass of the Sun ($\\mathrm{M}_\\odot \\approx 2\\times10^{33}$ g).\n",
    "\n",
    "The simulation begins at $t = 0 \\, \\mathrm{Gyr}$, and stops at $t = 2.5 \\, \\mathrm{Gyr}$.\n",
    "\n",
    "### Loading the data\n",
    "\n",
    "First, we need to load the data. The data file location is **data/formation_times.txt**. Use the **numpy** package, and the function **loadtxt** to load the data into a variable called **data**."
   ]
  },
  {
   "cell_type": "markdown",
   "metadata": {},
   "source": [
    "### First investigations\n",
    "\n",
    "Print out the shape of the **data** array."
   ]
  },
  {
   "cell_type": "markdown",
   "metadata": {},
   "source": [
    "What are some of the common statistics on this data? Well, we could look at the mean, median, and standard deviation to start. Print out the mean, median, and standard deviations of the data using **numpy**."
   ]
  },
  {
   "cell_type": "markdown",
   "metadata": {},
   "source": [
    "#### Can you infer something about the star formation times of the simulation using these statistics, given that the simulation stops at $t = 2.5 \\, \\mathrm{Gyr}$?\n",
    "\n",
    "#### Answer:\n",
    "At first glance, from the above values (considering the simulation stops at $t = 2.5 \\, \\mathrm{Gyr}$) it seems that the star formation rate is relatively constant over the course of the simulation.  We infer this from the mean location at about half-way between the start and end times.  It does seem to be a bit biased toward the beginning of the simulation."
   ]
  },
  {
   "cell_type": "markdown",
   "metadata": {},
   "source": [
    "### Histograms\n",
    "\n",
    "Print out a histogram of the star formation time data with the default number of bins, using **numpy**."
   ]
  },
  {
   "cell_type": "markdown",
   "metadata": {},
   "source": [
    "Print out a histogram of the data with $N = 50$ bins."
   ]
  },
  {
   "cell_type": "markdown",
   "metadata": {},
   "source": [
    "Use *tuple unpacking* to expand the histogram data into two variables: **counts** and **bin_edges**. Print these to the console."
   ]
  },
  {
   "cell_type": "markdown",
   "metadata": {},
   "source": [
    "Compare the lengths of both **counts** and **bin_edges** by printing out their lengths to the console."
   ]
  },
  {
   "cell_type": "markdown",
   "metadata": {},
   "source": [
    "Use numpy array slicing to create a new variable **bin_centers** that contains the bin centers rather than the bin edges."
   ]
  },
  {
   "cell_type": "markdown",
   "metadata": {},
   "source": [
    "Print out the *second* to the *last* element of **bin_edges**."
   ]
  },
  {
   "cell_type": "markdown",
   "metadata": {},
   "source": [
    "Print out the *first* to the *penultimate* element of **bin_edges**."
   ]
  },
  {
   "cell_type": "markdown",
   "metadata": {},
   "source": [
    "### Plotting the data\n",
    "\n",
    "We are interested in plotting the number of stars formed in each formation bin. Use **matplotlib.pyplot** and the **plot** function to accomplish this, and be sure to use a title, and axes labels. The x-axis should be limited in the range $x \\in [0, 2.5]$. Make sure the units are given in the axes labels."
   ]
  },
  {
   "cell_type": "markdown",
   "metadata": {},
   "source": [
    "Plot the mean and median on top of the previous plot using **axvline**. The mean should have a dashed line-style, and the median should have a dotted line-style."
   ]
  },
  {
   "cell_type": "markdown",
   "metadata": {},
   "source": [
    "### Star Formation Rate\n",
    "\n",
    "Given that each star has a mass of $M_* = 2\\times10^5 \\, \\mathrm{M}_\\odot$, plot the mass of stars formed, in $\\mathrm{M}_\\odot$ units, binned by time formed. Be sure to update the axes labels and units, and make the y-axis log scaled."
   ]
  },
  {
   "cell_type": "markdown",
   "metadata": {},
   "source": [
    "We can find the difference in time between each bin, depending on our choice of number of bins. What is the \"$\\Delta t$\" of each bin, in the case of $N = 50$? Print it out to the console."
   ]
  },
  {
   "cell_type": "markdown",
   "metadata": {},
   "source": [
    "Given your $\\Delta t$, create a *star formation rate* array **sfr**. Using this array, print the mean star formation rate, in $\\mathrm{M}_\\odot / \\mathrm{yr}$ (not per $\\mathrm{Gyr}$!)."
   ]
  },
  {
   "cell_type": "markdown",
   "metadata": {},
   "source": [
    "Finally, plot the star formation rate (in $\\mathrm{M}_\\odot / \\mathrm{yr}$) as a function of the time formed."
   ]
  },
  {
   "cell_type": "markdown",
   "metadata": {},
   "source": [
    "Fit an decaying exponential to the data using **scipy.optimize.curve_fit**, with a functional form $ R = ae^{-bt} $. You will have to make a reasonable guess for $a$ and $b$. *Hint:* Use $a_\\mathrm{guess} = 3$ and $b_\\mathrm{guess} = -0.1$."
   ]
  },
  {
   "cell_type": "markdown",
   "metadata": {},
   "source": [
    "What is the characteristic decay timescale in $\\mathrm{Gyr}$?"
   ]
  },
  {
   "cell_type": "code",
   "execution_count": null,
   "metadata": {},
   "outputs": [],
   "source": []
  }
 ],
 "metadata": {
  "kernelspec": {
   "display_name": "Python 3",
   "language": "python",
   "name": "python3"
  },
  "language_info": {
   "codemirror_mode": {
    "name": "ipython",
    "version": 3
   },
   "file_extension": ".py",
   "mimetype": "text/x-python",
   "name": "python",
   "nbconvert_exporter": "python",
   "pygments_lexer": "ipython3",
   "version": "3.6.4"
  }
 },
 "nbformat": 4,
 "nbformat_minor": 2
}
