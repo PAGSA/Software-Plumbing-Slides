{
 "cells": [
  {
   "cell_type": "code",
   "execution_count": null,
   "metadata": {},
   "outputs": [],
   "source": [
    "#Use the interactive nbagg backend in the jupyter notebook.\n",
    "%matplotlib nbagg \n",
    "fig_width=7\n",
    "fig_height=5\n",
    "import matplotlib\n",
    "#Set default figure size\n",
    "matplotlib.rcParams['figure.figsize'] = [fig_width, fig_height]\n",
    "#Set default figure font size\n",
    "matplotlib.rcParams.update({'font.size':14}) "
   ]
  },
  {
   "cell_type": "markdown",
   "metadata": {},
   "source": [
    "# Pyplot tutorial\n",
    "\n",
    "\n",
    "An introduction to the pyplot interface.\n",
    "\n",
    "\n"
   ]
  },
  {
   "cell_type": "markdown",
   "metadata": {},
   "source": [
    "A simple matplotlib plot:"
   ]
  },
  {
   "cell_type": "code",
   "execution_count": null,
   "metadata": {},
   "outputs": [],
   "source": [
    "import matplotlib.pyplot as plt #Import matplotlib\n",
    "plt.plot([1, 2, 3, 4]) #Plot some numbers on the y axis.\n",
    "plt.ylabel('some numbers') \n",
    "plt.show()"
   ]
  },
  {
   "cell_type": "markdown",
   "metadata": {},
   "source": [
    "If you only supply a single array, the values of the array (1,2,3,4) are plotted against the indices (0,1,2,3)."
   ]
  },
  {
   "cell_type": "markdown",
   "metadata": {},
   "source": [
    "To get documentation on any matplotlib (or python function), use help()"
   ]
  },
  {
   "cell_type": "code",
   "execution_count": null,
   "metadata": {},
   "outputs": [],
   "source": [
    "help(plt.plot)"
   ]
  },
  {
   "cell_type": "markdown",
   "metadata": {},
   "source": [
    "Plot the array \\[1, 4, 9, 16\\] on the x axis and the array \\[1, 2, 3, 4\\] on the y axis."
   ]
  },
  {
   "cell_type": "code",
   "execution_count": null,
   "metadata": {},
   "outputs": [],
   "source": [
    "plt.plot([1, 2, 3, 4], [1, 4, 9, 16]) # Plot some x and y values.\n",
    "plt.show() #close the other interactive plot with the blue 'power' button in the top right first."
   ]
  },
  {
   "cell_type": "markdown",
   "metadata": {},
   "source": [
    "We don't have to use a blue line to plot our data. Let's try some the symbol types:"
   ]
  },
  {
   "cell_type": "code",
   "execution_count": null,
   "metadata": {},
   "outputs": [],
   "source": [
    "plt.plot([1, 2, 3, 4], [1, 4, 9, 16], 'ro') # Red circles\n",
    "plt.plot([1, 2, 3, 4], [2, 5, 10, 17], 'bx') # Blue crosses\n",
    "plt.plot([1, 2, 3, 4], [3, 6, 11, 18], '^', ls='--', color='magenta') #triangles and magenta dashed line\n",
    "plt.show()"
   ]
  },
  {
   "cell_type": "markdown",
   "metadata": {},
   "source": [
    "This plot is nice, but it needs more information. Let's add some labels, a title, and a legend:"
   ]
  },
  {
   "cell_type": "code",
   "execution_count": null,
   "metadata": {},
   "outputs": [],
   "source": [
    "plt.plot([1, 2, 3, 4], [1, 4, 9, 16], 'ro', label='red circles') # notice the label here!\n",
    "plt.plot([1, 2, 3, 4], [2, 5, 10, 17], 'bx', label='blue crosses') \n",
    "plt.plot([1, 2, 3, 4], [3, 6, 11, 18], '^', ls='--', color='magenta', label='magenta dashed line') \n",
    "\n",
    "plt.xlabel('X axis')\n",
    "plt.ylabel('Y axis')\n",
    "plt.title('Look at this Graph:')\n",
    "\n",
    "plt.legend(loc=2) # Place the legend in the top left corner.\n",
    "\n",
    "plt.show()"
   ]
  },
  {
   "cell_type": "markdown",
   "metadata": {},
   "source": [
    "Matplotlib normally uses numpy arrays instead of python lists to plot data. You can use numpy arrays like mathematical vectors. Numpy has many functions for efficiently operating on data."
   ]
  },
  {
   "cell_type": "code",
   "execution_count": null,
   "metadata": {},
   "outputs": [],
   "source": [
    "import numpy as np\n",
    "\n",
    "# This numpy function will produce evenly sampled values at intervals of 0.2 from 0 to 5.\n",
    "t = np.arange(0., 5., 0.2)\n",
    "print('Here\\'s the data np.arange produced:\\n',t)\n",
    "# Plot this data to various powers:\n",
    "plt.plot(t, t, 'r--', label='linear')\n",
    "plt.plot(t, t**2, 'bs', label='squared')\n",
    "plt.plot(t, t**3, 'g^', label='cubed')\n",
    "\n",
    "plt.xlabel('X axis')\n",
    "plt.ylabel('Y axis')\n",
    "plt.title('Look at this Graph:')\n",
    "plt.legend()\n",
    "plt.show()"
   ]
  },
  {
   "cell_type": "markdown",
   "metadata": {},
   "source": [
    "Let's try some more complicated numpy functions, and let's also use subplots! We are using numpy for an exponential and cosine function, and to get a precise value of pi."
   ]
  },
  {
   "cell_type": "code",
   "execution_count": null,
   "metadata": {},
   "outputs": [],
   "source": [
    "# Define a simple mathematical function. \n",
    "def f(t):\n",
    "    return np.exp(-t) * np.cos(2*np.pi*t)\n",
    "\n",
    "#Make some data to play with.\n",
    "t1 = np.linspace(0, 5, 50) #Return 50 samples from 0 to 50, endpoints included.\n",
    "print('Here\\'s the data np.linspace produced:\\n',t1)\n",
    "t2 = np.arange(0.0, 5.0, 0.02)\n",
    "\n",
    "#Create an empty figure. Let's make it 6 by 9 inches instead of the default.\n",
    "plt.figure(figsize=(6,9))\n",
    "# Add a subplot (In technial terms, an 'axes object'). '211' means two rows, 1 column, in the top row.\n",
    "plt.subplot(211) \n",
    "plt.plot(t1, f(t1), 'bo', t2, f(t2), 'k')\n",
    "plt.title('Graph 1')\n",
    "\n",
    "plt.subplot(212) # '212' means two rows, 1 column, in the *bottom* row.\n",
    "plt.plot(t2, np.cos(2*np.pi*t2), 'r--')\n",
    "plt.title('Graph 2')\n",
    "\n",
    "plt.show()"
   ]
  },
  {
   "cell_type": "markdown",
   "metadata": {},
   "source": [
    "Let's try producing a histogram of some data from normally distributed samples:"
   ]
  },
  {
   "cell_type": "code",
   "execution_count": null,
   "metadata": {},
   "outputs": [],
   "source": [
    "mu, sigma = 100, 15 #The mean and sigma values for our Gaussian\n",
    "x = mu + sigma * np.random.randn(10000) #Generate 10,000 samples from a unit Gaussian, then modify it.\n",
    "\n",
    "# Plot a histogram of the data using 50 bins. Add some nice coloring and transparency.\n",
    "# The histogram function returns several useful things, including the number of items per bin,\n",
    "# the bin edges, and \"patches\" which represent the shaded rectangles. \n",
    "n, bins, patches = plt.hist(x, 50, density=1, facecolor='g', alpha=0.75)\n",
    "\n",
    "#Decorating time!\n",
    "plt.xlabel('Smarts')\n",
    "plt.ylabel('Probability')\n",
    "plt.title('Histogram of IQ')\n",
    "# Let's add an annotation at the point (60,.025) in data coords. \n",
    "#Also, notice that you can use latex code in text and matplotlib will understand!\n",
    "plt.text(60, .025, r'$\\mu=100,\\ \\sigma=15$') #\n",
    "#Short way to set the x and y limits. Order is [xleft, xright, ylow, yhigh]\n",
    "plt.axis([40, 160, 0, 0.03])  \n",
    "plt.grid(True) # Add a grid for the heck of it.\n",
    "plt.show()"
   ]
  },
  {
   "cell_type": "markdown",
   "metadata": {},
   "source": [
    "Let's make an annotated plot with a nice arrow. There are lots of different arrow styles available. There are also other coordinate systems to use (e.g. the figure axis) instead of the data which may be helpful."
   ]
  },
  {
   "cell_type": "code",
   "execution_count": null,
   "metadata": {},
   "outputs": [],
   "source": [
    "# Make some data from a cos function.\n",
    "t = np.arange(0.0, 5.0, 0.01)\n",
    "s = np.cos(2*np.pi*t)\n",
    "#Plot it with a lineweight of 2.\n",
    "plt.plot(t, s, lw=2)\n",
    "\n",
    "#\"(x,y)\" is where the arrow points. \"xytext is where the annotation (arrow tail) lies.\n",
    "#The arrowprops argument takes a \"dictionary\" of keyword/value pairs to tell it how to draw the arrow.\n",
    "plt.annotate('local max', xy=(2, 1), xytext=(3, 1.5),\n",
    "             arrowprops=dict(facecolor='black', shrink=0.05),\n",
    "             )\n",
    "\n",
    "plt.ylim(-2, 2)\n",
    "plt.show()"
   ]
  },
  {
   "cell_type": "markdown",
   "metadata": {},
   "source": [
    "Finally, let's try some different scalings for our data! Matplotlib understands many different ones. Using the nbagg interactive backend, you can also change scalings using the 'k' and 'l' keys over a subplot."
   ]
  },
  {
   "cell_type": "code",
   "execution_count": null,
   "metadata": {},
   "outputs": [],
   "source": [
    "from matplotlib.ticker import NullFormatter  # useful for `logit` scale\n",
    "\n",
    "# make up some data in the interval [0, 1]\n",
    "y = np.random.normal(loc=0.5, scale=0.4, size=1000)\n",
    "where_in_range = (y > 0) & (y < 1) # Array of boolean True/False values\n",
    "y = y[where_in_range] # Only include data where the above is true.\n",
    "y.sort() #Sort from smallest to largest\n",
    "x = np.arange(len(y)) # Make an array of x values from 0 to the length of 'y' with an interval of 1.\n",
    "\n",
    "# plot with various axes scales\n",
    "plt.figure(figsize=(9,9))\n",
    "\n",
    "# linear\n",
    "plt.subplot(221)\n",
    "plt.plot(x, y)\n",
    "plt.yscale('linear')\n",
    "plt.title('linear')\n",
    "plt.grid(True)\n",
    "\n",
    "\n",
    "# log\n",
    "plt.subplot(222)\n",
    "plt.plot(x, y)\n",
    "plt.yscale('log')\n",
    "plt.title('log')\n",
    "plt.grid(True)\n",
    "\n",
    "\n",
    "# symmetric log\n",
    "plt.subplot(223)\n",
    "plt.plot(x, y - y.mean())\n",
    "plt.yscale('symlog', linthreshy=0.01)\n",
    "plt.title('symlog')\n",
    "plt.grid(True)\n",
    "\n",
    "# logit\n",
    "plt.subplot(224)\n",
    "plt.plot(x, y)\n",
    "plt.yscale('logit')\n",
    "plt.title('logit')\n",
    "plt.grid(True)\n",
    "\n",
    "#Complex workaround for logit, don't worry about this.\n",
    "\n",
    "# Format the minor tick labels of the y-axis into empty strings with\n",
    "# `NullFormatter`, to avoid cumbering the axis with too many labels.\n",
    "plt.gca().yaxis.set_minor_formatter(NullFormatter())\n",
    "# Adjust the subplot layout, because the logit one may take more space\n",
    "# than usual, due to y-tick labels like \"1 - 10^{-3}\"\n",
    "plt.subplots_adjust(top=0.92, bottom=0.08, left=0.10, right=0.95, hspace=0.25,\n",
    "                    wspace=0.35)\n",
    "\n",
    "plt.show()"
   ]
  },
  {
   "cell_type": "markdown",
   "metadata": {},
   "source": [
    "All of the above examples have used matplotlib in the \"state machine\" interface. This interface in matplotlib is designed to mimic plotting in matlab. We can also create plots using the python objects directly. This is generally a much more powerful approach, but requires more time to be invested. The following example shows some ways you can use the axes and figures objects to write more compact code."
   ]
  },
  {
   "cell_type": "code",
   "execution_count": null,
   "metadata": {},
   "outputs": [],
   "source": [
    "help(plt.subplots)"
   ]
  },
  {
   "cell_type": "code",
   "execution_count": null,
   "metadata": {},
   "outputs": [],
   "source": [
    "#This returns a figure object and four axes objects which I have unpacked.\n",
    "fig, ((ax1,ax2), (ax3,ax4)) = plt.subplots(2, 2, sharex=True, figsize=(7,7)) \n",
    "\n",
    "def plot_avg(ax, y):\n",
    "    \"\"\"Plot a thick red line spanning the axis object at the mean.\"\"\"\n",
    "    avg=np.mean(y)\n",
    "    ax.axhline(avg, lw=2, c='r')\n",
    "\n",
    "#Make some data.\n",
    "x=np.linspace(0,200,100)\n",
    "y1= x+1\n",
    "y2 = np.cos(x)\n",
    "y3 = (np.cos(x))**2\n",
    "y4 = x**2\n",
    "\n",
    "#automate stuff you have to repeat!\n",
    "for ax, y in zip((ax1,ax2,ax3,ax4), (y1,y2,y3,y4)): \n",
    "    ax.set_xlabel('x')\n",
    "    ax.set_ylabel('y')\n",
    "    ax.plot(x,y)\n",
    "    plot_avg(ax,y)\n",
    "    \n",
    "fig.suptitle('Stuff being done to data')\n",
    "\n",
    "#plt.tight_layout() tries to automatically fix overlapping subplots. It is EXTREMELY useful\n",
    "#for making nice multipanel plots.\n",
    "#rect=(xleft,ybottom,xright,ytop) in normalized units of the figure size.\n",
    "plt.tight_layout(rect=[0, 0.03, 1, 0.95]) \n"
   ]
  },
  {
   "cell_type": "markdown",
   "metadata": {},
   "source": [
    "# Imshow tutorial\n",
    "\n",
    "How to plot images with matplotlib\n",
    "\n",
    "\n"
   ]
  },
  {
   "cell_type": "code",
   "execution_count": null,
   "metadata": {},
   "outputs": [],
   "source": [
    "#Let's look into what a 2D array looks like before we go plotting it\n",
    "a= np.arange(16).reshape([4,4])\n",
    "print(a)"
   ]
  },
  {
   "cell_type": "code",
   "execution_count": null,
   "metadata": {},
   "outputs": [],
   "source": [
    "#get only the nth row:\n",
    "n = 1 #second row\n",
    "row = a[n,:]\n",
    "print(row)"
   ]
  },
  {
   "cell_type": "code",
   "execution_count": null,
   "metadata": {},
   "outputs": [],
   "source": [
    "#get only the nth column:\n",
    "m = 2 #third column\n",
    "column = a[:,m]\n",
    "print(column)"
   ]
  },
  {
   "cell_type": "code",
   "execution_count": null,
   "metadata": {},
   "outputs": [],
   "source": [
    "#this will grab the last two rows and first two columns\n",
    "s = a[2:4,0:2]\n",
    "print(s)"
   ]
  },
  {
   "cell_type": "code",
   "execution_count": null,
   "metadata": {},
   "outputs": [],
   "source": [
    "#load the image\n",
    "img = np.load(\"xfct_image.npy\")\n",
    "print(np.size(img))\n",
    "print(np.size(img[0,:]),np.size(img[:,0]))\n",
    "#this is just normalizing the image\n",
    "img = img * 2.0/np.amax(img)\n",
    "radius = 1.25 #cm"
   ]
  },
  {
   "cell_type": "code",
   "execution_count": null,
   "metadata": {},
   "outputs": [],
   "source": [
    "#now plot it using matplotlib's imshow()\n",
    "fig = plt.figure(figsize=[9,9])\n",
    "ax = fig.add_subplot(111)\n",
    "\n",
    "#add a color bar and set label for that\n",
    "cax = ax.imshow(img, \n",
    "                cmap = plt.get_cmap(\"inferno\"), #reverse by appending \"_r\"\n",
    "                extent = None,#(-radius, radius, -radius, radius),#(left, right, bottom, top) \n",
    "                origin = \"lower\", #upper is by default in top left corner, lower will flip vertical axes\n",
    "                interpolation = \"sinc\" # 'none', 'nearest', 'bilinear', 'bicubic', 'spline16',\n",
    "           #'spline36', 'hanning', 'hamming', 'hermite', 'kaiser', 'quadric',\n",
    "           #'catrom', 'gaussian', 'bessel', 'mitchell', 'sinc', 'lanczos'\n",
    "               )\n",
    "cbar = fig.colorbar(cax)\n",
    "cbar.set_label(\"Concentration of gold\", rotation=270, labelpad=20)\n",
    "\n",
    "#Decorations\n",
    "plt.xlabel(\"x [cm]\", labelpad=1)\n",
    "plt.ylabel(\"y [cm]\", labelpad=1)\n",
    "plt.show()"
   ]
  }
 ],
 "metadata": {
  "kernelspec": {
   "display_name": "Python 3",
   "language": "python",
   "name": "python3"
  },
  "language_info": {
   "codemirror_mode": {
    "name": "ipython",
    "version": 3
   },
   "file_extension": ".py",
   "mimetype": "text/x-python",
   "name": "python",
   "nbconvert_exporter": "python",
   "pygments_lexer": "ipython3",
   "version": "3.6.4"
  }
 },
 "nbformat": 4,
 "nbformat_minor": 1
}
